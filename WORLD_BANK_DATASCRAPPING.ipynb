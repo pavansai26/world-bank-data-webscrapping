{
  "nbformat": 4,
  "nbformat_minor": 0,
  "metadata": {
    "colab": {
      "name": "WORLD BANK DATASCRAPPING.ipynb",
      "provenance": [],
      "private_outputs": true,
      "authorship_tag": "ABX9TyNvQHaMrDgYoZLeo3FFqwBK",
      "include_colab_link": true
    },
    "kernelspec": {
      "name": "python3",
      "display_name": "Python 3"
    }
  },
  "cells": [
    {
      "cell_type": "markdown",
      "metadata": {
        "id": "view-in-github",
        "colab_type": "text"
      },
      "source": [
        "<a href=\"https://colab.research.google.com/github/pavansai26/world-bank-data-webscrapping/blob/master/WORLD_BANK_DATASCRAPPING.ipynb\" target=\"_parent\"><img src=\"https://colab.research.google.com/assets/colab-badge.svg\" alt=\"Open In Colab\"/></a>"
      ]
    },
    {
      "cell_type": "code",
      "metadata": {
        "id": "sZ0HebLQ-DVI",
        "colab_type": "code",
        "colab": {}
      },
      "source": [
        "!pip install pandas-datareader"
      ],
      "execution_count": null,
      "outputs": []
    },
    {
      "cell_type": "code",
      "metadata": {
        "id": "JrnacV1v_5Ef",
        "colab_type": "code",
        "colab": {}
      },
      "source": [
        "import pandas as pd"
      ],
      "execution_count": null,
      "outputs": []
    },
    {
      "cell_type": "code",
      "metadata": {
        "id": "SkzwbFUl-LBh",
        "colab_type": "code",
        "colab": {}
      },
      "source": [
        "from pandas_datareader import wb\n",
        "matches = wb.search('gdp.*capita.*const')"
      ],
      "execution_count": null,
      "outputs": []
    },
    {
      "cell_type": "code",
      "metadata": {
        "id": "EyJIx1Kg-nWx",
        "colab_type": "code",
        "colab": {}
      },
      "source": [
        "data = wb.download(indicator='NY.GDP.PCAP.KD', country=['US', 'CA', 'MX'], start=2005, end=2008)\n"
      ],
      "execution_count": null,
      "outputs": []
    },
    {
      "cell_type": "code",
      "metadata": {
        "id": "0G60kxM9-8YP",
        "colab_type": "code",
        "colab": {}
      },
      "source": [
        "print(data)"
      ],
      "execution_count": null,
      "outputs": []
    },
    {
      "cell_type": "code",
      "metadata": {
        "id": "JFTLeQMU--0e",
        "colab_type": "code",
        "colab": {}
      },
      "source": [
        "print(type(data))"
      ],
      "execution_count": null,
      "outputs": []
    },
    {
      "cell_type": "markdown",
      "metadata": {
        "id": "JGozg74LANtM",
        "colab_type": "text"
      },
      "source": [
        "this data is in dataframe format "
      ]
    },
    {
      "cell_type": "code",
      "metadata": {
        "id": "etQa1G5lAAYX",
        "colab_type": "code",
        "colab": {}
      },
      "source": [
        "data['NY.GDP.PCAP.KD'].groupby(level=1).mean()"
      ],
      "execution_count": null,
      "outputs": []
    },
    {
      "cell_type": "code",
      "metadata": {
        "id": "oYm5FUA1Aunu",
        "colab_type": "code",
        "colab": {}
      },
      "source": [
        "data['NY.GDP.PCAP.KD'].groupby(level=0).mean()"
      ],
      "execution_count": null,
      "outputs": []
    },
    {
      "cell_type": "markdown",
      "metadata": {
        "id": "ME6C-jotEcUG",
        "colab_type": "text"
      },
      "source": [
        "compare GDP to the share of people with cellphone contracts around the world."
      ]
    },
    {
      "cell_type": "code",
      "metadata": {
        "id": "LWJQjh9sDfH3",
        "colab_type": "code",
        "colab": {}
      },
      "source": [
        "wb.search('cell.*%').iloc[:,:2]"
      ],
      "execution_count": null,
      "outputs": []
    },
    {
      "cell_type": "markdown",
      "metadata": {
        "id": "2ACqg_XPeV2m",
        "colab_type": "text"
      },
      "source": [
        "gdp of world"
      ]
    },
    {
      "cell_type": "code",
      "metadata": {
        "id": "d_73vuiMEkKA",
        "colab_type": "code",
        "colab": {}
      },
      "source": [
        "ind = ['NY.GDP.PCAP.KD']\n",
        "data= wb.download(indicator=ind,country='all', start=2011, end=2011).dropna()\n",
        "data.columns= ['gdp']\n",
        "print(data)"
      ],
      "execution_count": null,
      "outputs": []
    },
    {
      "cell_type": "markdown",
      "metadata": {
        "id": "SDNSFZAbeSTa",
        "colab_type": "text"
      },
      "source": [
        "people with cellphone contracts around the world."
      ]
    },
    {
      "cell_type": "code",
      "metadata": {
        "id": "rOdfHdyrYEGa",
        "colab_type": "code",
        "colab": {}
      },
      "source": [
        "ind = ['IT.MOB.COV.ZS']\n",
        "data1= wb.download(indicator=ind, country='all', start=2011, end=2011).dropna()\n",
        "data1.columns= ['cell phone']\n",
        "print(data1.tail())"
      ],
      "execution_count": null,
      "outputs": []
    },
    {
      "cell_type": "markdown",
      "metadata": {
        "id": "HSC_vRSBeKGe",
        "colab_type": "text"
      },
      "source": [
        " compare GDP to the share of people with cellphone contracts around the world."
      ]
    },
    {
      "cell_type": "code",
      "metadata": {
        "id": "oW9YnqFSdKzb",
        "colab_type": "code",
        "colab": {}
      },
      "source": [
        "pd.concat([data,data1],axis=1)"
      ],
      "execution_count": null,
      "outputs": []
    },
    {
      "cell_type": "code",
      "metadata": {
        "id": "8FFCnl4Ue5MB",
        "colab_type": "code",
        "colab": {}
      },
      "source": [
        ""
      ],
      "execution_count": null,
      "outputs": []
    }
  ]
}